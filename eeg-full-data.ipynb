{
 "cells": [
  {
   "cell_type": "code",
   "execution_count": 7,
   "id": "0d9f1396",
   "metadata": {},
   "outputs": [],
   "source": [
    "import numpy as np\n",
    "import pandas as pd\n",
    "import matplotlib.pyplot as plt\n",
    "from sklearn.model_selection import train_test_split, KFold, cross_validate\n",
    "from sklearn.preprocessing import StandardScaler\n",
    "from sklearn.decomposition import PCA\n",
    "from sklearn.linear_model import LogisticRegression\n",
    "from sklearn.metrics import confusion_matrix, accuracy_score, classification_report\n",
    "from sklearn.ensemble import RandomForestClassifier\n",
    "from xgboost import XGBClassifier\n",
    "from sklearn.preprocessing import LabelEncoder\n",
    "from sklearn.tree import DecisionTreeClassifier\n",
    "from sklearn.neighbors import KNeighborsClassifier"
   ]
  },
  {
   "cell_type": "markdown",
   "id": "962c479f-64dd-47f6-8c7b-e6634b79dbfe",
   "metadata": {},
   "source": [
    "This data contains EEG correlates of genetic predisposition to alcoholism."
   ]
  },
  {
   "cell_type": "markdown",
   "id": "06038dd0-05fd-4408-947d-25529207238c",
   "metadata": {
    "jp-MarkdownHeadingCollapsed": true
   },
   "source": [
    "# Data Preprocessing"
   ]
  },
  {
   "cell_type": "code",
   "execution_count": 2,
   "id": "9154bd06",
   "metadata": {},
   "outputs": [
    {
     "name": "stdout",
     "output_type": "stream",
     "text": [
      "This data set contains 77 alcholic and 45 control subjects.\n"
     ]
    }
   ],
   "source": [
    "file_names_full = os.listdir('C:/Users/bbari/Documents/EEG Analysis/eeg_full')\n",
    "file_names_a=[]\n",
    "file_names_c=[]\n",
    "for filename in file_names_full:\n",
    "    if filename.startswith('co2a') or filename.startswith('co3a'):\n",
    "        file_names_a.append(filename)\n",
    "    else:\n",
    "        file_names_c.append(filename)\n",
    "print(f'This data set contains {len(file_names_a)} alcholic and {len(file_names_c)} control subjects.')"
   ]
  },
  {
   "cell_type": "markdown",
   "id": "b17f4ec4",
   "metadata": {},
   "source": [
    "**Alcholic(a) Subjects**<br>\n",
    "Extract and merge alcholic(a) subjects. Converting parquet format after that."
   ]
  },
  {
   "cell_type": "code",
   "execution_count": null,
   "id": "eea2e2ac",
   "metadata": {},
   "outputs": [],
   "source": [
    "file_names_list=[]\n",
    "for file in file_names_a:\n",
    "    file_names_temp=os.listdir('C:/Users/bbari/Documents/EEG Analysis/eeg_full/' + file)\n",
    "    file_names_temp=[f for f in file_names_temp if not f.endswith('.gz')]\n",
    "    file_names_list.append(file_names_temp)\n",
    "file_names_list"
   ]
  },
  {
   "cell_type": "code",
   "execution_count": null,
   "id": "e9997357",
   "metadata": {},
   "outputs": [],
   "source": [
    "d2 = pl.DataFrame()\n",
    "output_parquet_file = \"C:/Users/bbari/Documents/EEG Analysis/finalize_a.parquet\"\n",
    "for a in range(0,len(file_names_a)):\n",
    "    for i in range(0,len(file_names_list[a])):\n",
    "        filename='C:/Users/bbari/Documents/EEG Analysis/eeg_full'+'/'+str(file_names_a[a])+ '/'+str(file_names_list[a][i])\n",
    "        d1=pl.read_csv(filename,skip_rows=4,separator=\" \",ignore_errors=True)\n",
    "        d1=d1.with_columns(subject_group = pl.lit('a'),subject=pl.lit(str(file_names_a[a])))\n",
    "        d2=pl.concat([d2,d1])\n",
    "    print(filename)\n",
    "d2=d2.rename({\"#\": \"trial_num\",\"FP1\": \"sensor_position\",\"chan\": \"sample_num(timestamp)\",\"0\": \"sensor_value(voltage(mV))\"})\n",
    "d2.write_parquet(output_parquet_file)"
   ]
  },
  {
   "cell_type": "code",
   "execution_count": null,
   "id": "be181a8a",
   "metadata": {},
   "outputs": [],
   "source": [
    "df_a = pd.read_parquet('C:/Users/bbari/Documents/EEG Analysis/finalize_a.parquet') \n",
    "df_a"
   ]
  },
  {
   "cell_type": "markdown",
   "id": "c0356b9c",
   "metadata": {},
   "source": [
    "**Control(c) Subjects**<br>\n",
    "Extract and merge control(c) subjects. Converting parquet format after that."
   ]
  },
  {
   "cell_type": "code",
   "execution_count": null,
   "id": "3ca850cb",
   "metadata": {},
   "outputs": [],
   "source": [
    "file_names_list_2=[]\n",
    "for file in file_names_c:\n",
    "    file_names_temp=os.listdir('C:/Users/bbari/Documents/EEG Analysis/eeg_full/' + file)\n",
    "    file_names_temp=[f for f in file_names_temp if not f.endswith('.gz')]\n",
    "    file_names_list_2.append(file_names_temp)\n",
    "file_names_list_2"
   ]
  },
  {
   "cell_type": "code",
   "execution_count": null,
   "id": "a2cf1a81",
   "metadata": {},
   "outputs": [],
   "source": [
    "d4 = pl.DataFrame()\n",
    "output_parquet_file = \"C:/Users/bbari/Documents/EEG Analysis/finalize_c.parquet\"\n",
    "for a in range(0,len(file_names_c)):\n",
    "    for i in range(0,len(file_names_list_2[a])):\n",
    "        filename='C:/Users/bbari/Documents/EEG Analysis/eeg_full'+'/'+str(file_names_c[a])+ '/'+str(file_names_list_2[a][i])\n",
    "        d3=pl.read_csv(filename,skip_rows=4,separator=\" \",ignore_errors=True)\n",
    "        d3=d3.with_columns(subject_group = pl.lit('c'),subject=pl.lit(str(file_names_c[a])))\n",
    "        d4=pl.concat([d4,d3])\n",
    "    print(filename)\n",
    "d4=d4.rename({\"#\": \"trial_num\",\"FP1\": \"sensor_position\",\"chan\": \"sample_num(timestamp)\",\"0\": \"sensor_value(voltage(mV))\"})\n",
    "d4.write_parquet(output_parquet_file)"
   ]
  },
  {
   "cell_type": "code",
   "execution_count": null,
   "id": "4fe9e3cb",
   "metadata": {},
   "outputs": [],
   "source": [
    "df_c = pd.read_parquet('C:/Users/bbari/Documents/EEG Analysis/finalize_c.parquet') \n",
    "df_c"
   ]
  },
  {
   "cell_type": "markdown",
   "id": "c8c72a7f",
   "metadata": {},
   "source": [
    "**Merge Two Subjects in One DataFrame**"
   ]
  },
  {
   "cell_type": "code",
   "execution_count": 5,
   "id": "db474a9d",
   "metadata": {},
   "outputs": [
    {
     "data": {
      "text/html": [
       "<div>\n",
       "<style scoped>\n",
       "    .dataframe tbody tr th:only-of-type {\n",
       "        vertical-align: middle;\n",
       "    }\n",
       "\n",
       "    .dataframe tbody tr th {\n",
       "        vertical-align: top;\n",
       "    }\n",
       "\n",
       "    .dataframe thead th {\n",
       "        text-align: right;\n",
       "    }\n",
       "</style>\n",
       "<table border=\"1\" class=\"dataframe\">\n",
       "  <thead>\n",
       "    <tr style=\"text-align: right;\">\n",
       "      <th></th>\n",
       "      <th>trial_num</th>\n",
       "      <th>sensor_position</th>\n",
       "      <th>sample_num(timestamp)</th>\n",
       "      <th>sensor_value(voltage(mV))</th>\n",
       "      <th>subject_group</th>\n",
       "      <th>subject</th>\n",
       "    </tr>\n",
       "  </thead>\n",
       "  <tbody>\n",
       "    <tr>\n",
       "      <th>0</th>\n",
       "      <td>0.0</td>\n",
       "      <td>FP1</td>\n",
       "      <td>0.0</td>\n",
       "      <td>-8.921</td>\n",
       "      <td>a</td>\n",
       "      <td>co2a0000364</td>\n",
       "    </tr>\n",
       "    <tr>\n",
       "      <th>1</th>\n",
       "      <td>0.0</td>\n",
       "      <td>FP1</td>\n",
       "      <td>1.0</td>\n",
       "      <td>-8.433</td>\n",
       "      <td>a</td>\n",
       "      <td>co2a0000364</td>\n",
       "    </tr>\n",
       "    <tr>\n",
       "      <th>2</th>\n",
       "      <td>0.0</td>\n",
       "      <td>FP1</td>\n",
       "      <td>2.0</td>\n",
       "      <td>-2.574</td>\n",
       "      <td>a</td>\n",
       "      <td>co2a0000364</td>\n",
       "    </tr>\n",
       "    <tr>\n",
       "      <th>3</th>\n",
       "      <td>0.0</td>\n",
       "      <td>FP1</td>\n",
       "      <td>3.0</td>\n",
       "      <td>5.239</td>\n",
       "      <td>a</td>\n",
       "      <td>co2a0000364</td>\n",
       "    </tr>\n",
       "    <tr>\n",
       "      <th>4</th>\n",
       "      <td>0.0</td>\n",
       "      <td>FP1</td>\n",
       "      <td>4.0</td>\n",
       "      <td>11.587</td>\n",
       "      <td>a</td>\n",
       "      <td>co2a0000364</td>\n",
       "    </tr>\n",
       "    <tr>\n",
       "      <th>...</th>\n",
       "      <td>...</td>\n",
       "      <td>...</td>\n",
       "      <td>...</td>\n",
       "      <td>...</td>\n",
       "      <td>...</td>\n",
       "      <td>...</td>\n",
       "    </tr>\n",
       "    <tr>\n",
       "      <th>66182723</th>\n",
       "      <td>119.0</td>\n",
       "      <td>Y</td>\n",
       "      <td>251.0</td>\n",
       "      <td>-37.292</td>\n",
       "      <td>c</td>\n",
       "      <td>co3c0000402</td>\n",
       "    </tr>\n",
       "    <tr>\n",
       "      <th>66182724</th>\n",
       "      <td>119.0</td>\n",
       "      <td>Y</td>\n",
       "      <td>252.0</td>\n",
       "      <td>-36.316</td>\n",
       "      <td>c</td>\n",
       "      <td>co3c0000402</td>\n",
       "    </tr>\n",
       "    <tr>\n",
       "      <th>66182725</th>\n",
       "      <td>119.0</td>\n",
       "      <td>Y</td>\n",
       "      <td>253.0</td>\n",
       "      <td>-34.363</td>\n",
       "      <td>c</td>\n",
       "      <td>co3c0000402</td>\n",
       "    </tr>\n",
       "    <tr>\n",
       "      <th>66182726</th>\n",
       "      <td>119.0</td>\n",
       "      <td>Y</td>\n",
       "      <td>254.0</td>\n",
       "      <td>-33.386</td>\n",
       "      <td>c</td>\n",
       "      <td>co3c0000402</td>\n",
       "    </tr>\n",
       "    <tr>\n",
       "      <th>66182727</th>\n",
       "      <td>119.0</td>\n",
       "      <td>Y</td>\n",
       "      <td>255.0</td>\n",
       "      <td>-32.898</td>\n",
       "      <td>c</td>\n",
       "      <td>co3c0000402</td>\n",
       "    </tr>\n",
       "  </tbody>\n",
       "</table>\n",
       "<p>181854479 rows × 6 columns</p>\n",
       "</div>"
      ],
      "text/plain": [
       "          trial_num sensor_position  sample_num(timestamp)  \\\n",
       "0               0.0             FP1                    0.0   \n",
       "1               0.0             FP1                    1.0   \n",
       "2               0.0             FP1                    2.0   \n",
       "3               0.0             FP1                    3.0   \n",
       "4               0.0             FP1                    4.0   \n",
       "...             ...             ...                    ...   \n",
       "66182723      119.0               Y                  251.0   \n",
       "66182724      119.0               Y                  252.0   \n",
       "66182725      119.0               Y                  253.0   \n",
       "66182726      119.0               Y                  254.0   \n",
       "66182727      119.0               Y                  255.0   \n",
       "\n",
       "          sensor_value(voltage(mV)) subject_group      subject  \n",
       "0                            -8.921             a  co2a0000364  \n",
       "1                            -8.433             a  co2a0000364  \n",
       "2                            -2.574             a  co2a0000364  \n",
       "3                             5.239             a  co2a0000364  \n",
       "4                            11.587             a  co2a0000364  \n",
       "...                             ...           ...          ...  \n",
       "66182723                    -37.292             c  co3c0000402  \n",
       "66182724                    -36.316             c  co3c0000402  \n",
       "66182725                    -34.363             c  co3c0000402  \n",
       "66182726                    -33.386             c  co3c0000402  \n",
       "66182727                    -32.898             c  co3c0000402  \n",
       "\n",
       "[181854479 rows x 6 columns]"
      ]
     },
     "execution_count": 5,
     "metadata": {},
     "output_type": "execute_result"
    }
   ],
   "source": [
    "df_merged=pd.concat([df_a,df_c])\n",
    "df_merged"
   ]
  },
  {
   "cell_type": "markdown",
   "id": "98c1d93e",
   "metadata": {},
   "source": [
    "**Drop NaN Rows in DataFrame**"
   ]
  },
  {
   "cell_type": "code",
   "execution_count": 6,
   "id": "3c89f24c",
   "metadata": {},
   "outputs": [
    {
     "data": {
      "text/html": [
       "<div>\n",
       "<style scoped>\n",
       "    .dataframe tbody tr th:only-of-type {\n",
       "        vertical-align: middle;\n",
       "    }\n",
       "\n",
       "    .dataframe tbody tr th {\n",
       "        vertical-align: top;\n",
       "    }\n",
       "\n",
       "    .dataframe thead th {\n",
       "        text-align: right;\n",
       "    }\n",
       "</style>\n",
       "<table border=\"1\" class=\"dataframe\">\n",
       "  <thead>\n",
       "    <tr style=\"text-align: right;\">\n",
       "      <th></th>\n",
       "      <th>trial_num</th>\n",
       "      <th>sensor_position</th>\n",
       "      <th>sample_num(timestamp)</th>\n",
       "      <th>sensor_value(voltage(mV))</th>\n",
       "      <th>subject_group</th>\n",
       "      <th>subject</th>\n",
       "    </tr>\n",
       "  </thead>\n",
       "  <tbody>\n",
       "    <tr>\n",
       "      <th>0</th>\n",
       "      <td>0.0</td>\n",
       "      <td>FP1</td>\n",
       "      <td>0.0</td>\n",
       "      <td>-8.921</td>\n",
       "      <td>a</td>\n",
       "      <td>co2a0000364</td>\n",
       "    </tr>\n",
       "    <tr>\n",
       "      <th>1</th>\n",
       "      <td>0.0</td>\n",
       "      <td>FP1</td>\n",
       "      <td>1.0</td>\n",
       "      <td>-8.433</td>\n",
       "      <td>a</td>\n",
       "      <td>co2a0000364</td>\n",
       "    </tr>\n",
       "    <tr>\n",
       "      <th>2</th>\n",
       "      <td>0.0</td>\n",
       "      <td>FP1</td>\n",
       "      <td>2.0</td>\n",
       "      <td>-2.574</td>\n",
       "      <td>a</td>\n",
       "      <td>co2a0000364</td>\n",
       "    </tr>\n",
       "    <tr>\n",
       "      <th>3</th>\n",
       "      <td>0.0</td>\n",
       "      <td>FP1</td>\n",
       "      <td>3.0</td>\n",
       "      <td>5.239</td>\n",
       "      <td>a</td>\n",
       "      <td>co2a0000364</td>\n",
       "    </tr>\n",
       "    <tr>\n",
       "      <th>4</th>\n",
       "      <td>0.0</td>\n",
       "      <td>FP1</td>\n",
       "      <td>4.0</td>\n",
       "      <td>11.587</td>\n",
       "      <td>a</td>\n",
       "      <td>co2a0000364</td>\n",
       "    </tr>\n",
       "    <tr>\n",
       "      <th>...</th>\n",
       "      <td>...</td>\n",
       "      <td>...</td>\n",
       "      <td>...</td>\n",
       "      <td>...</td>\n",
       "      <td>...</td>\n",
       "      <td>...</td>\n",
       "    </tr>\n",
       "    <tr>\n",
       "      <th>66182723</th>\n",
       "      <td>119.0</td>\n",
       "      <td>Y</td>\n",
       "      <td>251.0</td>\n",
       "      <td>-37.292</td>\n",
       "      <td>c</td>\n",
       "      <td>co3c0000402</td>\n",
       "    </tr>\n",
       "    <tr>\n",
       "      <th>66182724</th>\n",
       "      <td>119.0</td>\n",
       "      <td>Y</td>\n",
       "      <td>252.0</td>\n",
       "      <td>-36.316</td>\n",
       "      <td>c</td>\n",
       "      <td>co3c0000402</td>\n",
       "    </tr>\n",
       "    <tr>\n",
       "      <th>66182725</th>\n",
       "      <td>119.0</td>\n",
       "      <td>Y</td>\n",
       "      <td>253.0</td>\n",
       "      <td>-34.363</td>\n",
       "      <td>c</td>\n",
       "      <td>co3c0000402</td>\n",
       "    </tr>\n",
       "    <tr>\n",
       "      <th>66182726</th>\n",
       "      <td>119.0</td>\n",
       "      <td>Y</td>\n",
       "      <td>254.0</td>\n",
       "      <td>-33.386</td>\n",
       "      <td>c</td>\n",
       "      <td>co3c0000402</td>\n",
       "    </tr>\n",
       "    <tr>\n",
       "      <th>66182727</th>\n",
       "      <td>119.0</td>\n",
       "      <td>Y</td>\n",
       "      <td>255.0</td>\n",
       "      <td>-32.898</td>\n",
       "      <td>c</td>\n",
       "      <td>co3c0000402</td>\n",
       "    </tr>\n",
       "  </tbody>\n",
       "</table>\n",
       "<p>181157888 rows × 6 columns</p>\n",
       "</div>"
      ],
      "text/plain": [
       "          trial_num sensor_position  sample_num(timestamp)  \\\n",
       "0               0.0             FP1                    0.0   \n",
       "1               0.0             FP1                    1.0   \n",
       "2               0.0             FP1                    2.0   \n",
       "3               0.0             FP1                    3.0   \n",
       "4               0.0             FP1                    4.0   \n",
       "...             ...             ...                    ...   \n",
       "66182723      119.0               Y                  251.0   \n",
       "66182724      119.0               Y                  252.0   \n",
       "66182725      119.0               Y                  253.0   \n",
       "66182726      119.0               Y                  254.0   \n",
       "66182727      119.0               Y                  255.0   \n",
       "\n",
       "          sensor_value(voltage(mV)) subject_group      subject  \n",
       "0                            -8.921             a  co2a0000364  \n",
       "1                            -8.433             a  co2a0000364  \n",
       "2                            -2.574             a  co2a0000364  \n",
       "3                             5.239             a  co2a0000364  \n",
       "4                            11.587             a  co2a0000364  \n",
       "...                             ...           ...          ...  \n",
       "66182723                    -37.292             c  co3c0000402  \n",
       "66182724                    -36.316             c  co3c0000402  \n",
       "66182725                    -34.363             c  co3c0000402  \n",
       "66182726                    -33.386             c  co3c0000402  \n",
       "66182727                    -32.898             c  co3c0000402  \n",
       "\n",
       "[181157888 rows x 6 columns]"
      ]
     },
     "execution_count": 6,
     "metadata": {},
     "output_type": "execute_result"
    }
   ],
   "source": [
    "df_merged=df_merged.dropna(subset=['trial_num'])\n",
    "df_merged"
   ]
  },
  {
   "cell_type": "markdown",
   "id": "3bfb41ae",
   "metadata": {},
   "source": [
    "**Sort By Trial Number&Sample Number(Timestamp)**"
   ]
  },
  {
   "cell_type": "code",
   "execution_count": 7,
   "id": "669d670f",
   "metadata": {},
   "outputs": [
    {
     "data": {
      "text/html": [
       "<div>\n",
       "<style scoped>\n",
       "    .dataframe tbody tr th:only-of-type {\n",
       "        vertical-align: middle;\n",
       "    }\n",
       "\n",
       "    .dataframe tbody tr th {\n",
       "        vertical-align: top;\n",
       "    }\n",
       "\n",
       "    .dataframe thead th {\n",
       "        text-align: right;\n",
       "    }\n",
       "</style>\n",
       "<table border=\"1\" class=\"dataframe\">\n",
       "  <thead>\n",
       "    <tr style=\"text-align: right;\">\n",
       "      <th></th>\n",
       "      <th>trial_num</th>\n",
       "      <th>sensor_position</th>\n",
       "      <th>sample_num(timestamp)</th>\n",
       "      <th>sensor_value(voltage(mV))</th>\n",
       "      <th>subject_group</th>\n",
       "      <th>subject</th>\n",
       "    </tr>\n",
       "  </thead>\n",
       "  <tbody>\n",
       "    <tr>\n",
       "      <th>0</th>\n",
       "      <td>0.0</td>\n",
       "      <td>FP1</td>\n",
       "      <td>0.0</td>\n",
       "      <td>-8.921</td>\n",
       "      <td>a</td>\n",
       "      <td>co2a0000364</td>\n",
       "    </tr>\n",
       "    <tr>\n",
       "      <th>257</th>\n",
       "      <td>0.0</td>\n",
       "      <td>FP2</td>\n",
       "      <td>0.0</td>\n",
       "      <td>0.834</td>\n",
       "      <td>a</td>\n",
       "      <td>co2a0000364</td>\n",
       "    </tr>\n",
       "    <tr>\n",
       "      <th>514</th>\n",
       "      <td>0.0</td>\n",
       "      <td>F7</td>\n",
       "      <td>0.0</td>\n",
       "      <td>-19.847</td>\n",
       "      <td>a</td>\n",
       "      <td>co2a0000364</td>\n",
       "    </tr>\n",
       "    <tr>\n",
       "      <th>771</th>\n",
       "      <td>0.0</td>\n",
       "      <td>F8</td>\n",
       "      <td>0.0</td>\n",
       "      <td>8.148</td>\n",
       "      <td>a</td>\n",
       "      <td>co2a0000364</td>\n",
       "    </tr>\n",
       "    <tr>\n",
       "      <th>1028</th>\n",
       "      <td>0.0</td>\n",
       "      <td>AF1</td>\n",
       "      <td>0.0</td>\n",
       "      <td>-2.146</td>\n",
       "      <td>a</td>\n",
       "      <td>co2a0000364</td>\n",
       "    </tr>\n",
       "    <tr>\n",
       "      <th>...</th>\n",
       "      <td>...</td>\n",
       "      <td>...</td>\n",
       "      <td>...</td>\n",
       "      <td>...</td>\n",
       "      <td>...</td>\n",
       "      <td>...</td>\n",
       "    </tr>\n",
       "    <tr>\n",
       "      <th>66181699</th>\n",
       "      <td>119.0</td>\n",
       "      <td>P2</td>\n",
       "      <td>255.0</td>\n",
       "      <td>-10.935</td>\n",
       "      <td>c</td>\n",
       "      <td>co3c0000402</td>\n",
       "    </tr>\n",
       "    <tr>\n",
       "      <th>66181956</th>\n",
       "      <td>119.0</td>\n",
       "      <td>P1</td>\n",
       "      <td>255.0</td>\n",
       "      <td>-12.146</td>\n",
       "      <td>c</td>\n",
       "      <td>co3c0000402</td>\n",
       "    </tr>\n",
       "    <tr>\n",
       "      <th>66182213</th>\n",
       "      <td>119.0</td>\n",
       "      <td>CPZ</td>\n",
       "      <td>255.0</td>\n",
       "      <td>-4.232</td>\n",
       "      <td>c</td>\n",
       "      <td>co3c0000402</td>\n",
       "    </tr>\n",
       "    <tr>\n",
       "      <th>66182470</th>\n",
       "      <td>119.0</td>\n",
       "      <td>nd</td>\n",
       "      <td>255.0</td>\n",
       "      <td>-32.939</td>\n",
       "      <td>c</td>\n",
       "      <td>co3c0000402</td>\n",
       "    </tr>\n",
       "    <tr>\n",
       "      <th>66182727</th>\n",
       "      <td>119.0</td>\n",
       "      <td>Y</td>\n",
       "      <td>255.0</td>\n",
       "      <td>-32.898</td>\n",
       "      <td>c</td>\n",
       "      <td>co3c0000402</td>\n",
       "    </tr>\n",
       "  </tbody>\n",
       "</table>\n",
       "<p>181157888 rows × 6 columns</p>\n",
       "</div>"
      ],
      "text/plain": [
       "          trial_num sensor_position  sample_num(timestamp)  \\\n",
       "0               0.0             FP1                    0.0   \n",
       "257             0.0             FP2                    0.0   \n",
       "514             0.0              F7                    0.0   \n",
       "771             0.0              F8                    0.0   \n",
       "1028            0.0             AF1                    0.0   \n",
       "...             ...             ...                    ...   \n",
       "66181699      119.0              P2                  255.0   \n",
       "66181956      119.0              P1                  255.0   \n",
       "66182213      119.0             CPZ                  255.0   \n",
       "66182470      119.0              nd                  255.0   \n",
       "66182727      119.0               Y                  255.0   \n",
       "\n",
       "          sensor_value(voltage(mV)) subject_group      subject  \n",
       "0                            -8.921             a  co2a0000364  \n",
       "257                           0.834             a  co2a0000364  \n",
       "514                         -19.847             a  co2a0000364  \n",
       "771                           8.148             a  co2a0000364  \n",
       "1028                         -2.146             a  co2a0000364  \n",
       "...                             ...           ...          ...  \n",
       "66181699                    -10.935             c  co3c0000402  \n",
       "66181956                    -12.146             c  co3c0000402  \n",
       "66182213                     -4.232             c  co3c0000402  \n",
       "66182470                    -32.939             c  co3c0000402  \n",
       "66182727                    -32.898             c  co3c0000402  \n",
       "\n",
       "[181157888 rows x 6 columns]"
      ]
     },
     "execution_count": 7,
     "metadata": {},
     "output_type": "execute_result"
    }
   ],
   "source": [
    "df_merged=df_merged.sort_values(by=[\"trial_num\",\"sample_num(timestamp)\"])\n",
    "df_merged #trial_num, sample_num(timestamp) to int 0,0 0,1 0,2..."
   ]
  },
  {
   "cell_type": "markdown",
   "id": "9ec4164a",
   "metadata": {},
   "source": [
    "**Reshape Sensor Values(voltage(mV) in Numpy Array**"
   ]
  },
  {
   "cell_type": "code",
   "execution_count": null,
   "id": "b10d8392-7df6-4fea-abdf-00f969f59750",
   "metadata": {},
   "outputs": [],
   "source": [
    "df_pivot = df_merged.pivot_table(index=['trial_num', 'sample_num(timestamp)', 'subject_group', 'subject'],\n",
    "                          columns='sensor_position',\n",
    "                          values='sensor_value(voltage(mV))',\n",
    "                          aggfunc='first').reset_index()"
   ]
  },
  {
   "cell_type": "markdown",
   "id": "84b2428c-2107-46e6-8a01-8ccb8dde4de7",
   "metadata": {},
   "source": [
    "# Displaying Parquet Data"
   ]
  },
  {
   "cell_type": "code",
   "execution_count": 2,
   "id": "df3ff20e-223e-4383-863d-75d2914dc80b",
   "metadata": {},
   "outputs": [
    {
     "data": {
      "text/html": [
       "<div>\n",
       "<style scoped>\n",
       "    .dataframe tbody tr th:only-of-type {\n",
       "        vertical-align: middle;\n",
       "    }\n",
       "\n",
       "    .dataframe tbody tr th {\n",
       "        vertical-align: top;\n",
       "    }\n",
       "\n",
       "    .dataframe thead th {\n",
       "        text-align: right;\n",
       "    }\n",
       "</style>\n",
       "<table border=\"1\" class=\"dataframe\">\n",
       "  <thead>\n",
       "    <tr style=\"text-align: right;\">\n",
       "      <th></th>\n",
       "      <th>trial_num</th>\n",
       "      <th>sample_num(timestamp)</th>\n",
       "      <th>subject_group</th>\n",
       "      <th>subject</th>\n",
       "      <th>AF1</th>\n",
       "      <th>AF2</th>\n",
       "      <th>AF7</th>\n",
       "      <th>AF8</th>\n",
       "      <th>AFZ</th>\n",
       "      <th>C1</th>\n",
       "      <th>...</th>\n",
       "      <th>PO8</th>\n",
       "      <th>POZ</th>\n",
       "      <th>PZ</th>\n",
       "      <th>T7</th>\n",
       "      <th>T8</th>\n",
       "      <th>TP7</th>\n",
       "      <th>TP8</th>\n",
       "      <th>X</th>\n",
       "      <th>Y</th>\n",
       "      <th>nd</th>\n",
       "    </tr>\n",
       "  </thead>\n",
       "  <tbody>\n",
       "    <tr>\n",
       "      <th>0</th>\n",
       "      <td>0.0</td>\n",
       "      <td>0.0</td>\n",
       "      <td>a</td>\n",
       "      <td>co2a0000364</td>\n",
       "      <td>-2.146</td>\n",
       "      <td>1.129</td>\n",
       "      <td>-16.856</td>\n",
       "      <td>-10.020</td>\n",
       "      <td>-0.987</td>\n",
       "      <td>-1.129</td>\n",
       "      <td>...</td>\n",
       "      <td>5.157</td>\n",
       "      <td>-6.266</td>\n",
       "      <td>-2.797</td>\n",
       "      <td>-6.805</td>\n",
       "      <td>-3.886</td>\n",
       "      <td>-9.338</td>\n",
       "      <td>-3.082</td>\n",
       "      <td>-5.269</td>\n",
       "      <td>-5.636</td>\n",
       "      <td>-8.901</td>\n",
       "    </tr>\n",
       "    <tr>\n",
       "      <th>1</th>\n",
       "      <td>0.0</td>\n",
       "      <td>0.0</td>\n",
       "      <td>a</td>\n",
       "      <td>co2a0000368</td>\n",
       "      <td>4.079</td>\n",
       "      <td>2.340</td>\n",
       "      <td>-0.061</td>\n",
       "      <td>4.242</td>\n",
       "      <td>2.391</td>\n",
       "      <td>0.203</td>\n",
       "      <td>...</td>\n",
       "      <td>2.625</td>\n",
       "      <td>-0.753</td>\n",
       "      <td>-0.203</td>\n",
       "      <td>1.770</td>\n",
       "      <td>-0.234</td>\n",
       "      <td>0.285</td>\n",
       "      <td>0.285</td>\n",
       "      <td>0.285</td>\n",
       "      <td>1.536</td>\n",
       "      <td>0.000</td>\n",
       "    </tr>\n",
       "    <tr>\n",
       "      <th>2</th>\n",
       "      <td>0.0</td>\n",
       "      <td>0.0</td>\n",
       "      <td>a</td>\n",
       "      <td>co2a0000369</td>\n",
       "      <td>1.617</td>\n",
       "      <td>2.055</td>\n",
       "      <td>1.831</td>\n",
       "      <td>1.485</td>\n",
       "      <td>2.879</td>\n",
       "      <td>0.753</td>\n",
       "      <td>...</td>\n",
       "      <td>4.008</td>\n",
       "      <td>-1.058</td>\n",
       "      <td>-0.651</td>\n",
       "      <td>1.912</td>\n",
       "      <td>5.493</td>\n",
       "      <td>-2.747</td>\n",
       "      <td>6.134</td>\n",
       "      <td>0.458</td>\n",
       "      <td>3.805</td>\n",
       "      <td>-2.350</td>\n",
       "    </tr>\n",
       "    <tr>\n",
       "      <th>3</th>\n",
       "      <td>0.0</td>\n",
       "      <td>0.0</td>\n",
       "      <td>a</td>\n",
       "      <td>co2a0000370</td>\n",
       "      <td>-0.183</td>\n",
       "      <td>-0.498</td>\n",
       "      <td>0.702</td>\n",
       "      <td>-1.119</td>\n",
       "      <td>0.468</td>\n",
       "      <td>-0.031</td>\n",
       "      <td>...</td>\n",
       "      <td>5.219</td>\n",
       "      <td>4.272</td>\n",
       "      <td>2.655</td>\n",
       "      <td>2.930</td>\n",
       "      <td>0.946</td>\n",
       "      <td>3.560</td>\n",
       "      <td>1.923</td>\n",
       "      <td>8.250</td>\n",
       "      <td>7.548</td>\n",
       "      <td>3.764</td>\n",
       "    </tr>\n",
       "    <tr>\n",
       "      <th>4</th>\n",
       "      <td>0.0</td>\n",
       "      <td>0.0</td>\n",
       "      <td>a</td>\n",
       "      <td>co2a0000371</td>\n",
       "      <td>-0.071</td>\n",
       "      <td>-0.682</td>\n",
       "      <td>-0.610</td>\n",
       "      <td>4.924</td>\n",
       "      <td>-1.241</td>\n",
       "      <td>1.058</td>\n",
       "      <td>...</td>\n",
       "      <td>2.726</td>\n",
       "      <td>0.244</td>\n",
       "      <td>0.997</td>\n",
       "      <td>-4.415</td>\n",
       "      <td>-0.682</td>\n",
       "      <td>-1.780</td>\n",
       "      <td>3.621</td>\n",
       "      <td>2.106</td>\n",
       "      <td>0.173</td>\n",
       "      <td>-1.180</td>\n",
       "    </tr>\n",
       "    <tr>\n",
       "      <th>...</th>\n",
       "      <td>...</td>\n",
       "      <td>...</td>\n",
       "      <td>...</td>\n",
       "      <td>...</td>\n",
       "      <td>...</td>\n",
       "      <td>...</td>\n",
       "      <td>...</td>\n",
       "      <td>...</td>\n",
       "      <td>...</td>\n",
       "      <td>...</td>\n",
       "      <td>...</td>\n",
       "      <td>...</td>\n",
       "      <td>...</td>\n",
       "      <td>...</td>\n",
       "      <td>...</td>\n",
       "      <td>...</td>\n",
       "      <td>...</td>\n",
       "      <td>...</td>\n",
       "      <td>...</td>\n",
       "      <td>...</td>\n",
       "      <td>...</td>\n",
       "    </tr>\n",
       "    <tr>\n",
       "      <th>2830587</th>\n",
       "      <td>119.0</td>\n",
       "      <td>255.0</td>\n",
       "      <td>c</td>\n",
       "      <td>co2c0000394</td>\n",
       "      <td>25.289</td>\n",
       "      <td>25.126</td>\n",
       "      <td>30.141</td>\n",
       "      <td>36.346</td>\n",
       "      <td>25.421</td>\n",
       "      <td>0.722</td>\n",
       "      <td>...</td>\n",
       "      <td>31.291</td>\n",
       "      <td>3.652</td>\n",
       "      <td>4.517</td>\n",
       "      <td>11.556</td>\n",
       "      <td>37.567</td>\n",
       "      <td>3.448</td>\n",
       "      <td>32.308</td>\n",
       "      <td>37.120</td>\n",
       "      <td>21.983</td>\n",
       "      <td>22.786</td>\n",
       "    </tr>\n",
       "    <tr>\n",
       "      <th>2830588</th>\n",
       "      <td>119.0</td>\n",
       "      <td>255.0</td>\n",
       "      <td>c</td>\n",
       "      <td>co2c0000395</td>\n",
       "      <td>10.335</td>\n",
       "      <td>4.395</td>\n",
       "      <td>19.613</td>\n",
       "      <td>9.715</td>\n",
       "      <td>6.887</td>\n",
       "      <td>4.700</td>\n",
       "      <td>...</td>\n",
       "      <td>3.601</td>\n",
       "      <td>0.295</td>\n",
       "      <td>2.401</td>\n",
       "      <td>19.501</td>\n",
       "      <td>10.122</td>\n",
       "      <td>15.411</td>\n",
       "      <td>10.803</td>\n",
       "      <td>21.444</td>\n",
       "      <td>31.311</td>\n",
       "      <td>29.785</td>\n",
       "    </tr>\n",
       "    <tr>\n",
       "      <th>2830589</th>\n",
       "      <td>119.0</td>\n",
       "      <td>255.0</td>\n",
       "      <td>c</td>\n",
       "      <td>co2c0000397</td>\n",
       "      <td>9.481</td>\n",
       "      <td>9.684</td>\n",
       "      <td>20.162</td>\n",
       "      <td>3.255</td>\n",
       "      <td>5.819</td>\n",
       "      <td>-2.126</td>\n",
       "      <td>...</td>\n",
       "      <td>-23.102</td>\n",
       "      <td>-18.921</td>\n",
       "      <td>-21.576</td>\n",
       "      <td>-12.950</td>\n",
       "      <td>-6.582</td>\n",
       "      <td>-14.537</td>\n",
       "      <td>-3.428</td>\n",
       "      <td>4.781</td>\n",
       "      <td>-2.218</td>\n",
       "      <td>-1.648</td>\n",
       "    </tr>\n",
       "    <tr>\n",
       "      <th>2830590</th>\n",
       "      <td>119.0</td>\n",
       "      <td>255.0</td>\n",
       "      <td>c</td>\n",
       "      <td>co2c1000367</td>\n",
       "      <td>8.382</td>\n",
       "      <td>8.911</td>\n",
       "      <td>17.629</td>\n",
       "      <td>15.767</td>\n",
       "      <td>7.243</td>\n",
       "      <td>3.967</td>\n",
       "      <td>...</td>\n",
       "      <td>-24.261</td>\n",
       "      <td>-7.243</td>\n",
       "      <td>-6.978</td>\n",
       "      <td>18.575</td>\n",
       "      <td>3.143</td>\n",
       "      <td>17.161</td>\n",
       "      <td>-7.833</td>\n",
       "      <td>19.826</td>\n",
       "      <td>6.836</td>\n",
       "      <td>-9.003</td>\n",
       "    </tr>\n",
       "    <tr>\n",
       "      <th>2830591</th>\n",
       "      <td>119.0</td>\n",
       "      <td>255.0</td>\n",
       "      <td>c</td>\n",
       "      <td>co3c0000402</td>\n",
       "      <td>1.414</td>\n",
       "      <td>0.814</td>\n",
       "      <td>7.619</td>\n",
       "      <td>12.197</td>\n",
       "      <td>0.916</td>\n",
       "      <td>-1.424</td>\n",
       "      <td>...</td>\n",
       "      <td>-21.749</td>\n",
       "      <td>-16.418</td>\n",
       "      <td>-5.198</td>\n",
       "      <td>-18.748</td>\n",
       "      <td>-12.797</td>\n",
       "      <td>-15.503</td>\n",
       "      <td>-8.677</td>\n",
       "      <td>107.320</td>\n",
       "      <td>-32.898</td>\n",
       "      <td>-32.939</td>\n",
       "    </tr>\n",
       "  </tbody>\n",
       "</table>\n",
       "<p>2830592 rows × 68 columns</p>\n",
       "</div>"
      ],
      "text/plain": [
       "         trial_num  sample_num(timestamp) subject_group      subject     AF1  \\\n",
       "0              0.0                    0.0             a  co2a0000364  -2.146   \n",
       "1              0.0                    0.0             a  co2a0000368   4.079   \n",
       "2              0.0                    0.0             a  co2a0000369   1.617   \n",
       "3              0.0                    0.0             a  co2a0000370  -0.183   \n",
       "4              0.0                    0.0             a  co2a0000371  -0.071   \n",
       "...            ...                    ...           ...          ...     ...   \n",
       "2830587      119.0                  255.0             c  co2c0000394  25.289   \n",
       "2830588      119.0                  255.0             c  co2c0000395  10.335   \n",
       "2830589      119.0                  255.0             c  co2c0000397   9.481   \n",
       "2830590      119.0                  255.0             c  co2c1000367   8.382   \n",
       "2830591      119.0                  255.0             c  co3c0000402   1.414   \n",
       "\n",
       "            AF2     AF7     AF8     AFZ     C1  ...     PO8     POZ      PZ  \\\n",
       "0         1.129 -16.856 -10.020  -0.987 -1.129  ...   5.157  -6.266  -2.797   \n",
       "1         2.340  -0.061   4.242   2.391  0.203  ...   2.625  -0.753  -0.203   \n",
       "2         2.055   1.831   1.485   2.879  0.753  ...   4.008  -1.058  -0.651   \n",
       "3        -0.498   0.702  -1.119   0.468 -0.031  ...   5.219   4.272   2.655   \n",
       "4        -0.682  -0.610   4.924  -1.241  1.058  ...   2.726   0.244   0.997   \n",
       "...         ...     ...     ...     ...    ...  ...     ...     ...     ...   \n",
       "2830587  25.126  30.141  36.346  25.421  0.722  ...  31.291   3.652   4.517   \n",
       "2830588   4.395  19.613   9.715   6.887  4.700  ...   3.601   0.295   2.401   \n",
       "2830589   9.684  20.162   3.255   5.819 -2.126  ... -23.102 -18.921 -21.576   \n",
       "2830590   8.911  17.629  15.767   7.243  3.967  ... -24.261  -7.243  -6.978   \n",
       "2830591   0.814   7.619  12.197   0.916 -1.424  ... -21.749 -16.418  -5.198   \n",
       "\n",
       "             T7      T8     TP7     TP8        X       Y      nd  \n",
       "0        -6.805  -3.886  -9.338  -3.082   -5.269  -5.636  -8.901  \n",
       "1         1.770  -0.234   0.285   0.285    0.285   1.536   0.000  \n",
       "2         1.912   5.493  -2.747   6.134    0.458   3.805  -2.350  \n",
       "3         2.930   0.946   3.560   1.923    8.250   7.548   3.764  \n",
       "4        -4.415  -0.682  -1.780   3.621    2.106   0.173  -1.180  \n",
       "...         ...     ...     ...     ...      ...     ...     ...  \n",
       "2830587  11.556  37.567   3.448  32.308   37.120  21.983  22.786  \n",
       "2830588  19.501  10.122  15.411  10.803   21.444  31.311  29.785  \n",
       "2830589 -12.950  -6.582 -14.537  -3.428    4.781  -2.218  -1.648  \n",
       "2830590  18.575   3.143  17.161  -7.833   19.826   6.836  -9.003  \n",
       "2830591 -18.748 -12.797 -15.503  -8.677  107.320 -32.898 -32.939  \n",
       "\n",
       "[2830592 rows x 68 columns]"
      ]
     },
     "execution_count": 2,
     "metadata": {},
     "output_type": "execute_result"
    }
   ],
   "source": [
    "df_pivot = pd.read_parquet('C:/Users/bbari/Documents/EEG Analysis/df_pivot.parquet.gzip')\n",
    "df_pivot"
   ]
  },
  {
   "cell_type": "markdown",
   "id": "9e40d45a-9a18-46a8-b3d5-fd06f454b018",
   "metadata": {},
   "source": [
    "# Applying PCA Into Dataset"
   ]
  },
  {
   "cell_type": "code",
   "execution_count": 3,
   "id": "dbfe98d2-7a5f-41ed-8075-1b2bc5661db0",
   "metadata": {},
   "outputs": [
    {
     "data": {
      "text/plain": [
       "Text(0, 0.5, 'cumulative explained variance')"
      ]
     },
     "execution_count": 3,
     "metadata": {},
     "output_type": "execute_result"
    },
    {
     "data": {
      "image/png": "[encoded data removed]",
      "text/plain": [
       "<Figure size 600x400 with 1 Axes>"
      ]
     },
     "metadata": {},
     "output_type": "display_data"
    }
   ],
   "source": [
    "#df_pivot datasetinden kaç principal komponent alırsak, ne kadarlık bir temsil sağlarız\n",
    "df_pivot_data = df_pivot.iloc[:,4:].values\n",
    "pca = PCA().fit(df_pivot_data)\n",
    "plt.figure(figsize=(6,4))\n",
    "plt.plot(np.cumsum(pca.explained_variance_ratio_))\n",
    "plt.axhline(0.90, c=\"r\")\n",
    "plt.xlabel(\"number of components\")\n",
    "plt.ylabel(\"cumulative explained variance\")"
   ]
  },
  {
   "cell_type": "code",
   "execution_count": 4,
   "id": "6670eb32-60e5-4de0-a2db-9b46405d4080",
   "metadata": {},
   "outputs": [
    {
     "name": "stdout",
     "output_type": "stream",
     "text": [
      "subject_group\n",
      "a    0.636068\n",
      "c    0.363932\n",
      "Name: proportion, dtype: float64\n"
     ]
    }
   ],
   "source": [
    "# subject_group sütunundaki sınıf dağılımını kontrol edelim\n",
    "class_counts = df_pivot['subject_group'].value_counts(normalize=True)\n",
    "print(class_counts)"
   ]
  },
  {
   "cell_type": "code",
   "execution_count": 3,
   "id": "6d4a7951-5f35-4954-a760-3c857ac67b22",
   "metadata": {},
   "outputs": [
    {
     "data": {
      "text/plain": [
       "0.902"
      ]
     },
     "execution_count": 3,
     "metadata": {},
     "output_type": "execute_result"
    }
   ],
   "source": [
    "# distributing the dataset into two components X and Y\n",
    "X = df_pivot.iloc[:,4:].values #features(voltages)\n",
    "y = df_pivot.iloc[:,2:3].values #classes/labels(trial_num, sample_num, subject_group, subject) subject_group sütununu kullanıyoruz\n",
    "\n",
    "#Veri setini Eğitim seti ve Test seti olarak ayırma\n",
    "X_train, X_test, y_train, y_test = train_test_split(X, y, stratify=y, test_size=0.2, random_state=0) #stratify ile dengesiz class oranını(a=63%, c=36%) dengeleyelim\n",
    "\n",
    "#Standart ölçeğe uyum sağlama gibi eğitim ve test setleri üzerinde ön işleme kısmını yapmak\n",
    "# performing preprocessing part\n",
    "sc = StandardScaler()\n",
    "\n",
    "X_train = sc.fit_transform(X_train)\n",
    "X_test = sc.transform(X_test)\n",
    "\n",
    "# Applying PCA function on training and testing set of X component\n",
    "pca = PCA(n_components=25) # project from 64 to 25 dimensions (90% temsili için)\n",
    "\n",
    "X_train = pca.fit_transform(X_train)\n",
    "X_test = pca.transform(X_test)\n",
    "\n",
    "explained_variance = pca.explained_variance_ratio_\n",
    "round(sum(explained_variance),3)"
   ]
  },
  {
   "cell_type": "markdown",
   "id": "69a10900-93bd-4cf7-84f0-348aa8d5974e",
   "metadata": {},
   "source": [
    "# Logistic Regression"
   ]
  },
  {
   "cell_type": "code",
   "execution_count": 6,
   "id": "8f4abb5e-dbbf-4033-864a-5de39fab2fc2",
   "metadata": {},
   "outputs": [
    {
     "name": "stderr",
     "output_type": "stream",
     "text": [
      "C:\\Users\\bbari\\AppData\\Local\\Programs\\Python\\Python312\\Lib\\site-packages\\sklearn\\utils\\validation.py:1300: DataConversionWarning: A column-vector y was passed when a 1d array was expected. Please change the shape of y to (n_samples, ), for example using ravel().\n",
      "  y = column_or_1d(y, warn=True)\n"
     ]
    },
    {
     "name": "stdout",
     "output_type": "stream",
     "text": [
      "Doğru Tahmin Oranı: 0.64\n"
     ]
    }
   ],
   "source": [
    "# Lojistik Regresyonu eğitim setine fitting işlemi\n",
    "log_clf = LogisticRegression(random_state=0)\n",
    "log_clf.fit(X_train, y_train)\n",
    "\n",
    "# Predicting the test set result using predict function under LogisticRegression\n",
    "y_pred = log_clf.predict(X_test)\n",
    "\n",
    "#Y'nin test seti ile tahmin edilen değer arasında confusion matrisinin oluşturulması\n",
    "cm = confusion_matrix(y_test, y_pred)\n",
    "\n",
    "correct_predictions = cm.diagonal().sum() # Diagonaldeki doğru tahminleri toplayalım\n",
    "total_predictions = cm.sum()  # Tüm tahmin değerlerinin toplamı\n",
    "\n",
    "#Doğru Tahmin Oranı (Accuracy) Hesaplama\n",
    "acc_log = correct_predictions / total_predictions\n",
    "print(f'Doğru Tahmin Oranı: {acc_log:.2f}')"
   ]
  },
  {
   "cell_type": "code",
   "execution_count": 7,
   "id": "00ceb23a-7db7-4a9d-8672-abb7851dc8f9",
   "metadata": {},
   "outputs": [
    {
     "name": "stdout",
     "output_type": "stream",
     "text": [
      "Logistic Regression model accuracy: % 64.0\n"
     ]
    }
   ],
   "source": [
    "acc_log = accuracy_score(y_test, y_pred)\n",
    "print(\"Logistic Regression model accuracy: %\",round((acc_log*100),1))"
   ]
  },
  {
   "cell_type": "code",
   "execution_count": 10,
   "id": "4cc78781-9ca3-474a-97f8-ea38f5093755",
   "metadata": {},
   "outputs": [
    {
     "name": "stdout",
     "output_type": "stream",
     "text": [
      "Accuracy skorları: [0.64150357 0.64146471 0.64182732 0.64205342 0.64191211 0.64207109\n",
      " 0.64120908 0.64132919 0.64228659 0.64165068]\n",
      "Ortalama accuracy: 0.641730775927183\n",
      "Accuracy skorlarının standart sapması: 0.00033664774288033605\n"
     ]
    }
   ],
   "source": [
    "model = LogisticRegression(random_state=0)\n",
    "\n",
    "skf = KFold(n_splits=10, shuffle=True, random_state=42) #k=10, shuffle=True verilerin rastgele karıştırılmasını sağlıyor\n",
    "# Her fold'un özellikle dengesiz class dağılımına sahip veri setlerinde, daha dengeli ve tutarlı olması için\n",
    "\n",
    "# Cross-validation ile doğrulukları hesaplayalım\n",
    "accuracies = cross_validate(model, X, y, cv=skf, scoring=['accuracy', 'precision', 'recall', 'f1'], n_jobs=-1)\n",
    "\n",
    "accuracy_scores = scores['test_accuracy']\n",
    "print(\"Accuracy skorları:\", accuracy_scores)\n",
    "print(\"Ortalama accuracy:\", accuracy_scores.mean())\n",
    "print(\"Accuracy skorlarının standart sapması:\", accuracy_scores.std())"
   ]
  },
  {
   "cell_type": "markdown",
   "id": "dc10973f-21bf-4236-802b-d81dedcb02b6",
   "metadata": {},
   "source": [
    "# Random Forest"
   ]
  },
  {
   "cell_type": "code",
   "execution_count": 9,
   "id": "a2a2534c-7d8e-46a6-9932-0c3bae8046b6",
   "metadata": {},
   "outputs": [
    {
     "name": "stderr",
     "output_type": "stream",
     "text": [
      "C:\\Users\\bbari\\AppData\\Local\\Programs\\Python\\Python312\\Lib\\site-packages\\sklearn\\base.py:1474: DataConversionWarning: A column-vector y was passed when a 1d array was expected. Please change the shape of y to (n_samples,), for example using ravel().\n",
      "  return fit_method(estimator, *args, **kwargs)\n"
     ]
    },
    {
     "name": "stdout",
     "output_type": "stream",
     "text": [
      "Doğru Tahmin Oranı: 0.85\n"
     ]
    }
   ],
   "source": [
    "# Random Forest modelini tanımlama ve eğitme\n",
    "rand_clf = RandomForestClassifier(random_state=0, n_jobs=-1) #Çoklu İşlem Kullanımı (n_jobs=-1)\n",
    "rand_clf.fit(X_train, y_train)\n",
    "\n",
    "# Modeli test seti üzerinde değerlendirme\n",
    "y_pred = rand_clf.predict(X_test)\n",
    "\n",
    "# Doğruluk oranını hesaplama ve sonuçları gösterme\n",
    "acc_ran = accuracy_score(y_test, y_pred)\n",
    "print(f'Doğru Tahmin Oranı: {acc_ran:.2f}') #tahmini çalışma süresi 15 dakika"
   ]
  },
  {
   "cell_type": "code",
   "execution_count": 11,
   "id": "0911ca24-068d-44fb-81b7-5773c3fc20bf",
   "metadata": {},
   "outputs": [
    {
     "name": "stdout",
     "output_type": "stream",
     "text": [
      "              precision    recall  f1-score   support\n",
      "\n",
      "           a       0.83      0.96      0.89    360307\n",
      "           c       0.91      0.66      0.76    205812\n",
      "\n",
      "    accuracy                           0.85    566119\n",
      "   macro avg       0.87      0.81      0.83    566119\n",
      "weighted avg       0.86      0.85      0.85    566119\n",
      "\n"
     ]
    }
   ],
   "source": [
    "print(classification_report(y_test, y_pred))"
   ]
  },
  {
   "cell_type": "markdown",
   "id": "1bf4729e-18e1-4abb-a576-010937f6938b",
   "metadata": {},
   "source": [
    "# XGBoost"
   ]
  },
  {
   "cell_type": "code",
   "execution_count": 16,
   "id": "e9d48b9f-aae8-4c93-a16e-203efc43e1e1",
   "metadata": {},
   "outputs": [
    {
     "name": "stderr",
     "output_type": "stream",
     "text": [
      "C:\\Users\\bbari\\AppData\\Local\\Programs\\Python\\Python312\\Lib\\site-packages\\sklearn\\preprocessing\\_label.py:114: DataConversionWarning: A column-vector y was passed when a 1d array was expected. Please change the shape of y to (n_samples, ), for example using ravel().\n",
      "  y = column_or_1d(y, warn=True)\n",
      "C:\\Users\\bbari\\AppData\\Local\\Programs\\Python\\Python312\\Lib\\site-packages\\sklearn\\preprocessing\\_label.py:132: DataConversionWarning: A column-vector y was passed when a 1d array was expected. Please change the shape of y to (n_samples, ), for example using ravel().\n",
      "  y = column_or_1d(y, dtype=self.classes_.dtype, warn=True)\n"
     ]
    },
    {
     "name": "stdout",
     "output_type": "stream",
     "text": [
      "Doğru Tahmin Oranı: 0.74\n"
     ]
    }
   ],
   "source": [
    "label_encoder = LabelEncoder()\n",
    "\n",
    "# y'yi sayısal değerlere dönüştürme\n",
    "#ValueError: Invalid classes inferred from unique values of `y`.  Expected: [0 1], got ['a' 'c']\n",
    "y_train_encoded = label_encoder.fit_transform(y_train)\n",
    "y_test_encoded = label_encoder.transform(y_test)\n",
    "\n",
    "xgb_clf = XGBClassifier(random_state=0, n_jobs=-1)\n",
    "xgb_clf.fit(X_train, y_train_encoded)\n",
    "\n",
    "y_pred = xgb_clf.predict(X_test)\n",
    "\n",
    "acc_xgb = accuracy_score(y_test_encoded, y_pred)\n",
    "print(f'Doğru Tahmin Oranı: {acc_xgb:.2f}')"
   ]
  },
  {
   "cell_type": "code",
   "execution_count": 17,
   "id": "01adf56b-abf0-4a82-983f-769eb803bf75",
   "metadata": {},
   "outputs": [
    {
     "name": "stdout",
     "output_type": "stream",
     "text": [
      "              precision    recall  f1-score   support\n",
      "\n",
      "           0       0.75      0.89      0.81    360307\n",
      "           1       0.72      0.47      0.57    205812\n",
      "\n",
      "    accuracy                           0.74    566119\n",
      "   macro avg       0.73      0.68      0.69    566119\n",
      "weighted avg       0.74      0.74      0.73    566119\n",
      "\n"
     ]
    }
   ],
   "source": [
    "print(classification_report(y_test_encoded, y_pred))"
   ]
  },
  {
   "cell_type": "markdown",
   "id": "71bc37a5-67ed-4eda-89f7-12696cc62d53",
   "metadata": {},
   "source": [
    "# Decision Tree Classifier"
   ]
  },
  {
   "cell_type": "code",
   "execution_count": 5,
   "id": "66fd9ac9-4509-4897-a062-4ab15ec234e7",
   "metadata": {},
   "outputs": [
    {
     "name": "stdout",
     "output_type": "stream",
     "text": [
      "Doğru Tahmin Oranı: 0.72\n"
     ]
    }
   ],
   "source": [
    "# Decision Tree modelini tanımlama ve eğitme\n",
    "dtc_clf = DecisionTreeClassifier(random_state=0)\n",
    "dtc_clf.fit(X_train, y_train)\n",
    "\n",
    "# Test seti üzerinde tahmin yapma\n",
    "y_pred = dtc_clf.predict(X_test)\n",
    "\n",
    "# Doğruluk oranını hesaplama\n",
    "acc_dtc = accuracy_score(y_test, y_pred)\n",
    "print(f'Doğru Tahmin Oranı: {acc_dtc:.2f}') #tahmini çalışma süresi 5 dakika "
   ]
  },
  {
   "cell_type": "code",
   "execution_count": null,
   "id": "8a0409b6-c594-4974-81aa-ab88076678f7",
   "metadata": {},
   "outputs": [],
   "source": [
    "'''from sklearn.tree import plot_tree\n",
    "plt.figure(figsize=(20,10))\n",
    "plot_tree(dtc_clf, filled=True, feature_names=df_pivot.columns[4:], class_names=['a', 'c'], rounded=True)\n",
    "plt.show()'''"
   ]
  },
  {
   "cell_type": "markdown",
   "id": "494579a1-3f96-42c0-990e-cbda0b81dc3e",
   "metadata": {},
   "source": [
    "# KNN (K-nearest neighbors)"
   ]
  },
  {
   "cell_type": "code",
   "execution_count": 5,
   "id": "8d85387e-0d5f-4785-9957-4e0188ae582a",
   "metadata": {},
   "outputs": [
    {
     "name": "stderr",
     "output_type": "stream",
     "text": [
      "C:\\Users\\bbari\\AppData\\Local\\Programs\\Python\\Python312\\Lib\\site-packages\\sklearn\\neighbors\\_classification.py:238: DataConversionWarning: A column-vector y was passed when a 1d array was expected. Please change the shape of y to (n_samples,), for example using ravel().\n",
      "  return self._fit(X, y)\n"
     ]
    },
    {
     "data": {
      "text/plain": [
       "array([[339361,  20946],\n",
       "       [ 43153, 162659]], dtype=int64)"
      ]
     },
     "execution_count": 5,
     "metadata": {},
     "output_type": "execute_result"
    }
   ],
   "source": [
    "knn_clf=KNeighborsClassifier(n_neighbors=5,metric=\"minkowski\")\n",
    "knn_clf.fit(X_train,y_train)\n",
    "\n",
    "y_pred=knn_clf.predict(X_test)\n",
    "\n",
    "cm=confusion_matrix(y_test,y_pred)\n",
    "cm"
   ]
  },
  {
   "cell_type": "code",
   "execution_count": 7,
   "id": "71b4c716-245c-4d08-a996-39cb353eb1fa",
   "metadata": {},
   "outputs": [
    {
     "name": "stdout",
     "output_type": "stream",
     "text": [
      "Doğru Tahmin Oranı: 0.89\n"
     ]
    }
   ],
   "source": [
    "acc_knn = accuracy_score(y_test, y_pred)\n",
    "print(f'Doğru Tahmin Oranı: {acc_knn:.2f}')"
   ]
  }
 ],
 "metadata": {
  "kernelspec": {
   "display_name": "Python 3 (ipykernel)",
   "language": "python",
   "name": "python3"
  },
  "language_info": {
   "codemirror_mode": {
    "name": "ipython",
    "version": 3
   },
   "file_extension": ".py",
   "mimetype": "text/x-python",
   "name": "python",
   "nbconvert_exporter": "python",
   "pygments_lexer": "ipython3",
   "version": "3.12.3"
  }
 },
 "nbformat": 4,
 "nbformat_minor": 5
}
